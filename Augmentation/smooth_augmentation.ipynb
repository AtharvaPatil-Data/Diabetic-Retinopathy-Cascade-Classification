{
  "cells": [
    {
      "cell_type": "code",
      "execution_count": 1,
      "metadata": {
        "colab": {
          "base_uri": "https://localhost:8080/"
        },
        "id": "RV1bzd7KDyFI",
        "outputId": "ad2a1889-93a6-4d07-c8ae-213e7db8d179"
      },
      "outputs": [],
      "source": [
        "import os\n",
        "import cv2\n",
        "import numpy as np\n",
        "from tqdm import tqdm"
      ]
    },
    {
      "cell_type": "code",
      "execution_count": 2,
      "metadata": {
        "id": "wNxvwpz1D2Zj"
      },
      "outputs": [],
      "source": [
        "datasets = {\n",
        "    # 'drc': {\n",
        "    #     'input': '/Users/abhiruppaul/Abhirup/DCU/Practicum/dataset_not_aug/drc/training',\n",
        "    #     'output': '/Users/abhiruppaul/Abhirup/DCU/Practicum/dataset_not_aug/augmented/drc_aug'\n",
        "    # },\n",
        "    'aptos': {\n",
        "        'input': '/Users/abhiruppaul/Abhirup/DCU/Practicum/dataset_not_aug/aptos/training',\n",
        "        'output': '/Users/abhiruppaul/Abhirup/DCU/Practicum/dataset_not_aug/augmented/aptos_aug_2'\n",
        "    }\n",
        "}\n",
        "\n",
        "\n",
        "# Class folder names: class_0 to class_4\n",
        "classes = [f'class_{i}' for i in range(5)]\n"
      ]
    },
    {
      "cell_type": "code",
      "execution_count": 3,
      "metadata": {
        "id": "EyTh_paTE-Dt"
      },
      "outputs": [],
      "source": [
        "# --- Augmentation functions ---\n",
        "def horizontal_flip(image):\n",
        "    return cv2.flip(image, 1), '_hf'\n",
        "\n",
        "def vertical_flip(image):\n",
        "    return cv2.flip(image, 0), '_vf'\n",
        "\n",
        "def adjust_brightness(image, factor=1.2):\n",
        "    hsv = cv2.cvtColor(image, cv2.COLOR_RGB2HSV)\n",
        "    hsv[..., 2] = np.clip(hsv[..., 2] * factor, 0, 255)\n",
        "    image_out = cv2.cvtColor(hsv, cv2.COLOR_HSV2RGB)\n",
        "    suffix = f\"_b{int(factor*10)}\" if factor != 1.2 else \"_b\"\n",
        "    return image_out, suffix\n",
        "\n",
        "def adjust_saturation(image, factor=1.2):\n",
        "    hsv = cv2.cvtColor(image, cv2.COLOR_RGB2HSV)\n",
        "    hsv[..., 1] = np.clip(hsv[..., 1] * factor, 0, 255)\n",
        "    image_out = cv2.cvtColor(hsv, cv2.COLOR_HSV2RGB)\n",
        "    suffix = f\"_s{int(factor*10)}\" if factor != 1.2 else \"_s\"\n",
        "    return image_out, suffix"
      ]
    },
    {
      "cell_type": "code",
      "execution_count": 4,
      "metadata": {
        "id": "wVoW2A9kFBk2"
      },
      "outputs": [],
      "source": [
        "# --- Augmentation strategy ---\n",
        "def augment_image(image, count):\n",
        "    augmented = []\n",
        "\n",
        "    if count >= 1:\n",
        "        img, suffix = horizontal_flip(image)\n",
        "        augmented.append((img, suffix))\n",
        "    if count >= 2:\n",
        "        img, suffix = vertical_flip(image)\n",
        "        augmented.append((img, suffix))\n",
        "    if count >= 3:\n",
        "        img, suffix = adjust_saturation(image, 1.2)\n",
        "        augmented.append((img, suffix))\n",
        "    if count >= 4:\n",
        "        img, suffix = adjust_brightness(image, 1.2)\n",
        "        augmented.append((img, suffix))\n",
        "    for i in range(4, count):\n",
        "        if i % 2 == 0:\n",
        "            factor = 1.2 + 0.1 * ((i - 4)//2 + 1)\n",
        "            img, suffix = adjust_saturation(image, factor)\n",
        "        else:\n",
        "            factor = 1.2 + 0.1 * ((i - 5)//2 + 1)\n",
        "            img, suffix = adjust_brightness(image, factor)\n",
        "        augmented.append((img, suffix))\n",
        "    return augmented"
      ]
    },
    {
      "cell_type": "code",
      "execution_count": 5,
      "metadata": {
        "id": "CTbMCh1EFEeL"
      },
      "outputs": [],
      "source": [
        "# --- Main processing function ---\n",
        "def process_dataset(dataset_name):\n",
        "    input_dir = datasets[dataset_name]['input']\n",
        "    output_dir = datasets[dataset_name]['output']\n",
        "\n",
        "    # Step 1: Calculate class sizes\n",
        "    class_sizes = {}\n",
        "    for class_name in classes:\n",
        "        class_path = os.path.join(input_dir, class_name)\n",
        "        num_images = len([\n",
        "            img for img in os.listdir(class_path)\n",
        "            if img.lower().endswith(('.jpg', '.jpeg', '.png'))\n",
        "        ])\n",
        "        class_sizes[class_name] = num_images\n",
        "\n",
        "    max_class_size = max(class_sizes.values())\n",
        "\n",
        "    # Step 2: Augment only underrepresented classes\n",
        "    for class_name in classes:\n",
        "        input_class_dir = os.path.join(input_dir, class_name)\n",
        "        output_class_dir = os.path.join(output_dir, class_name)\n",
        "        os.makedirs(output_class_dir, exist_ok=True)\n",
        "\n",
        "        img_names = [\n",
        "            img for img in os.listdir(input_class_dir)\n",
        "            if img.lower().endswith(('.jpg', '.jpeg', '.png'))\n",
        "        ]\n",
        "\n",
        "        current_count = len(img_names)\n",
        "        required_total = max_class_size\n",
        "\n",
        "        if current_count == 0:\n",
        "            continue  # Skip empty class\n",
        "\n",
        "        # Progress bar\n",
        "        print(f\"\\nProcessing class: {class_name} ({current_count} → {required_total})\")\n",
        "        for img_name in tqdm(img_names, desc=f'{class_name}', leave=False):\n",
        "            input_img_path = os.path.join(input_class_dir, img_name)\n",
        "            image = cv2.imread(input_img_path)\n",
        "            image = cv2.cvtColor(image, cv2.COLOR_BGR2RGB)\n",
        "\n",
        "            # Save original image\n",
        "            save_original_path = os.path.join(output_class_dir, img_name)\n",
        "            cv2.imwrite(save_original_path, cv2.cvtColor(image, cv2.COLOR_RGB2BGR))\n",
        "\n",
        "        if current_count >= required_total:\n",
        "            continue  # No augmentation needed\n",
        "\n",
        "        # Step 3: Augmentation to balance class\n",
        "        aug_index = 0\n",
        "        num_to_generate = required_total - current_count\n",
        "        while aug_index < num_to_generate:\n",
        "            img_name = img_names[aug_index % current_count]\n",
        "            input_img_path = os.path.join(input_class_dir, img_name)\n",
        "            image = cv2.imread(input_img_path)\n",
        "            image = cv2.cvtColor(image, cv2.COLOR_BGR2RGB)\n",
        "\n",
        "            aug_imgs = augment_image(image, count=10)  # Generate multiple augmentations\n",
        "\n",
        "            for aug_img, suffix in aug_imgs:\n",
        "                if aug_index >= num_to_generate:\n",
        "                    break\n",
        "                aug_filename = f\"{os.path.splitext(img_name)[0]}_aug{suffix}_{aug_index + 1}.png\"\n",
        "                save_path = os.path.join(output_class_dir, aug_filename)\n",
        "                cv2.imwrite(save_path, cv2.cvtColor(aug_img, cv2.COLOR_RGB2BGR))\n",
        "                aug_index += 1"
      ]
    },
    {
      "cell_type": "code",
      "execution_count": 6,
      "metadata": {
        "colab": {
          "base_uri": "https://localhost:8080/"
        },
        "id": "D9Z9RiUoFIAA",
        "outputId": "1ded49fa-6694-49e1-a416-de6696edaa4e"
      },
      "outputs": [
        {
          "name": "stdout",
          "output_type": "stream",
          "text": [
            "\n",
            "====================\n",
            "Processing dataset: aptos\n",
            "====================\n",
            "\n",
            "Processing class: class_0 (1444 → 1444)\n"
          ]
        },
        {
          "name": "stderr",
          "output_type": "stream",
          "text": [
            "                                                             \r"
          ]
        },
        {
          "name": "stdout",
          "output_type": "stream",
          "text": [
            "\n",
            "Processing class: class_1 (296 → 1444)\n"
          ]
        },
        {
          "name": "stderr",
          "output_type": "stream",
          "text": [
            "                                                           \r"
          ]
        },
        {
          "name": "stdout",
          "output_type": "stream",
          "text": [
            "\n",
            "Processing class: class_2 (799 → 1444)\n"
          ]
        },
        {
          "name": "stderr",
          "output_type": "stream",
          "text": [
            "                                                           \r"
          ]
        },
        {
          "name": "stdout",
          "output_type": "stream",
          "text": [
            "\n",
            "Processing class: class_3 (154 → 1444)\n"
          ]
        },
        {
          "name": "stderr",
          "output_type": "stream",
          "text": [
            "                                                           \r"
          ]
        },
        {
          "name": "stdout",
          "output_type": "stream",
          "text": [
            "\n",
            "Processing class: class_4 (236 → 1444)\n"
          ]
        },
        {
          "name": "stderr",
          "output_type": "stream",
          "text": [
            "                                                           \r"
          ]
        }
      ],
      "source": [
        "# --- Run both datasets ---\n",
        "for dataset in datasets:\n",
        "    print(f\"\\n====================\")\n",
        "    print(f\"Processing dataset: {dataset}\")\n",
        "    print(f\"====================\")\n",
        "    process_dataset(dataset)"
      ]
    }
  ],
  "metadata": {
    "accelerator": "GPU",
    "colab": {
      "gpuType": "T4",
      "provenance": []
    },
    "kernelspec": {
      "display_name": "tensorflow",
      "language": "python",
      "name": "python3"
    },
    "language_info": {
      "codemirror_mode": {
        "name": "ipython",
        "version": 3
      },
      "file_extension": ".py",
      "mimetype": "text/x-python",
      "name": "python",
      "nbconvert_exporter": "python",
      "pygments_lexer": "ipython3",
      "version": "3.10.13"
    }
  },
  "nbformat": 4,
  "nbformat_minor": 0
}
